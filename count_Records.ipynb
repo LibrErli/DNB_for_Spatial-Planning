{
 "cells": [
  {
   "cell_type": "markdown",
   "metadata": {},
   "source": [
    "# Spatial Planning and its need for national and regional bibliographies of grey literature\n",
    "## Jupyter Notebook to get the number of records for a specific query\n",
    "\n",
    "This python script is counting the records in the [German National Bibliography](http://www.dnb.de/DE/Service/DigitaleDienste/DNBBibliografie/dnbbibliografie_node.html) filtered to specific queries.\n",
    "\n",
    "Before running this script you have to be an enregistered user in the DNB-Datastore, to get access to the SRU-Protocol. Please register for an API Access-Token\n",
    "\n",
    "## Configuration\n",
    "\n",
    "*  Line#1: Set your access-token in the input field or write a hardcoded variable \"DNBToken = 'Your-Token'\"\n",
    "*  Line#11: [DDC-Notation](http://www.dnb.de/SharedDocs/Downloads/DE/DNB/service/ddcSachgruppenDNB.html) to filter the national bibliography\n",
    "*  Line#12: Restrict to a specific year (Write '18' for 2018)\n",
    "*  Line#13: Choose specific parts (\"reihe\") of the bibliography\n",
    "*  Line#14: You can restrict for a specific number of the weekly publication of the bibliography.\n"
   ]
  },
  {
   "cell_type": "code",
   "execution_count": 1,
   "metadata": {},
   "source": [
    "DNBToken = input (\"Please insert your DNB-API Access-Token\")"
   ]
  },
  {
   "cell_type": "code",
   "execution_count": 2,
   "metadata": {},
   "outputs": [],
   "source": [
    "import xml.etree.ElementTree as ET\n",
    "import urllib.request\n",
    "%matplotlib inline\n",
    "import matplotlib.pyplot as plt; plt.rcdefaults()\n",
    "import numpy as np\n",
    "import matplotlib.pyplot as plt\n",
    "import time\n",
    "\n",
    "currentYear = time.strftime(\"%y\")\n",
    "\n",
    "hsgDDC = '620'\n",
    "jahr = '10'\n",
    "reiheListe = ('A','B','H','O')\n",
    "wvnr = '*'\n",
    "maxRec = '100'\n",
    "startPos = '1'\n",
    "\n",
    "\n",
    "def queryBuild(hsgDDC,jahr,reihe,wvnr):\n",
    "    query = 'hsg%3D' + hsgDDC + '%20'\n",
    "    #query = '(sw%3DStadt*' + '%20OR%20sw%3DRegion*' + '%20OR%20sw%3DRaum*)' + '%20NOT%20DNS%3DB'\n",
    "    query = query +  \"%20AND%20WVN%3D\" + jahr + \"%2C\"+ reihe +\"\" + wvnr\n",
    "    return query\n",
    "\n",
    "\n",
    "def buildDNBSRUuri(query,DNBToken,maxRec,startPos):\n",
    "    DNBSRUuri = 'http://services.dnb.de/sru/dnb?version=1.1&operation=searchRetrieve&query='\n",
    "    DNBSRUuri = DNBSRUuri + query\n",
    "    DNBSRUuri = DNBSRUuri +  \"&maximumRecords=\"+maxRec+\"&startRecord=\"+startPos+\"&recordSchema=MARC21-xml\"\n",
    "    DNBSRUuri = DNBSRUuri + \"&accessToken=\"+DNBToken\n",
    "    return DNBSRUuri\n",
    "\n",
    "\n",
    "ns = {'srw' : 'http://www.loc.gov/zing/srw/', 'slim' : 'http://www.loc.gov/MARC21/slim'}\n",
    "\n",
    "\n"
   ]
  },
  {
   "cell_type": "code",
   "execution_count": 3,
   "metadata": {},
   "outputs": [
    {
     "name": "stdout",
     "output_type": "stream",
     "text": [
      "A\n",
      "2010;2011;2012;2013;2014;2015;2016;2017\n",
      "3121;1993;1751;1922;1896;1678;1564;1611\n",
      "B\n",
      "2010;2011;2012;2013;2014;2015;2016;2017\n",
      "1285;670;618;545;681;647;493;704\n",
      "H\n",
      "2010;2011;2012;2013;2014;2015;2016;2017\n",
      "1466;921;775;860;1087;847;695;944\n",
      "O\n",
      "2010;2011;2012;2013;2014;2015;2016;2017\n",
      "5137;3234;7979;7794;6441;7537;8641;7676\n"
     ]
    }
   ],
   "source": [
    "for reihObj in reiheListe:\n",
    "    objects = ()\n",
    "    NoR = []\n",
    "    print (reihObj)\n",
    "    jahrLoop = jahr\n",
    "    \n",
    "    while int(jahrLoop)<(int(currentYear)):\n",
    "    \n",
    "        objects= objects + (str(2000+int(jahrLoop)),)\n",
    "    \n",
    "        query = queryBuild(hsgDDC,str(jahrLoop),reihObj,wvnr)\n",
    "        #print(query)\n",
    "        DNBSRUuri = buildDNBSRUuri(query,DNBToken,maxRec,startPos)\n",
    "    \n",
    "        tree = ET.ElementTree(file=urllib.request.urlopen(DNBSRUuri))\n",
    "        root = tree.getroot()\n",
    "    \n",
    "        NoRPar = root.findall(\".//srw:numberOfRecords\",ns)\n",
    "        NoR.append(int(NoRPar[0].text))\n",
    "        jahrLoop = int(jahrLoop)+1\n",
    "\n",
    "\n",
    "    print(*objects, sep=';')    \n",
    "    print(*NoR, sep=';')\n"
   ]
  },
  {
   "cell_type": "code",
   "execution_count": 4,
   "metadata": {},
   "outputs": [
    {
     "data": {
      "image/png": "[encoded data removed]",
      "text/plain": [
       "<Figure size 864x576 with 1 Axes>"
      ]
     },
     "metadata": {},
     "output_type": "display_data"
    }
   ],
   "source": [
    "y_pos = np.arange(len(objects))\n",
    "\n",
    "fig = plt.figure(figsize=(12,8))\n",
    "ax = fig.add_subplot(111)\n",
    "\n",
    "\n",
    "ind=np.arange(len(NoR))\n",
    "width = 0.35   \n",
    "rects1 = ax.bar(ind, NoR )\n",
    "\n",
    "for rect in rects1:\n",
    "        height = rect.get_height()\n",
    "        ax.text(rect.get_x() + rect.get_width()/2., 1.005*height,\n",
    "                '%d' % int(height),\n",
    "                ha='center', va='bottom')\n",
    "\n",
    "plt.bar(y_pos,NoR,align='center',alpha=0.5)\n",
    "plt.xticks(y_pos, objects)\n",
    "plt.ylabel('Number of Records')\n",
    "plt.title('Spatial planning relevant Documents in DNB')\n",
    " \n",
    "plt.show()"
   ]
  }
 ],
 "metadata": {
  "kernelspec": {
   "display_name": "Python 3",
   "language": "python",
   "name": "python3"
  },
  "language_info": {
   "codemirror_mode": {
    "name": "ipython",
    "version": 3
   },
   "file_extension": ".py",
   "mimetype": "text/x-python",
   "name": "python",
   "nbconvert_exporter": "python",
   "pygments_lexer": "ipython3",
   "version": "3.6.5"
  }
 },
 "nbformat": 4,
 "nbformat_minor": 2
}
